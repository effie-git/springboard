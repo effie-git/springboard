{
 "cells": [
  {
   "cell_type": "markdown",
   "metadata": {},
   "source": [
    "**Note**: This exercise is adapted from the original [here](https://github.com/pandas-profiling/pandas-profiling/blob/master/examples/meteorites/meteorites.ipynb). As of September 2020 if you install [pandas_profiling on conda](https://anaconda.org/conda-forge/pandas-profiling) you might get an old version (1.41) as it seems for this package some channels on conda are a bit older then the latest version on [pypi](https://pypi.org/project/pandas-profiling/) (2.9.0 as of September 2020). To be super clear you can see the exact enviornment and library versions used to run this exercise in the Pipefile (see [pipenv](https://pipenv-fork.readthedocs.io/en/latest/) for more details) of this example [here](https://github.com/andrewm4894/pandas-profiling/blob/master/Pipfile)."
   ]
  },
  {
   "cell_type": "markdown",
   "metadata": {},
   "source": [
    "## Pandas Profiling: NASA Meteorites example\n",
    "Source of data: https://data.nasa.gov/Space-Science/Meteorite-Landings/gh4g-9sfh"
   ]
  },
  {
   "cell_type": "markdown",
   "metadata": {},
   "source": [
    "The autoreload instruction reloads modules automatically before code execution, which is helpful for the update below."
   ]
  },
  {
   "cell_type": "code",
   "execution_count": 1,
   "metadata": {},
   "outputs": [],
   "source": [
    "%load_ext autoreload\n",
    "%autoreload 2"
   ]
  },
  {
   "cell_type": "markdown",
   "metadata": {},
   "source": [
    "Make sure that we have the latest version of pandas-profiling."
   ]
  },
  {
   "cell_type": "code",
   "execution_count": 7,
   "metadata": {
    "tags": []
   },
   "outputs": [
    {
     "name": "stdout",
     "output_type": "stream",
     "text": [
      "Collecting pandas-profiling==2.9.0\n",
      "  Downloading pandas_profiling-2.9.0-py2.py3-none-any.whl (258 kB)\n",
      "\u001b[K     |████████████████████████████████| 258 kB 5.6 MB/s eta 0:00:01\n",
      "\u001b[?25hRequirement already satisfied: ipywidgets>=7.5.1 in /Users/effiepeng/opt/anaconda3/envs/ds/lib/python3.9/site-packages (from pandas-profiling==2.9.0) (7.6.3)\n",
      "Requirement already satisfied: matplotlib>=3.2.0 in /Users/effiepeng/opt/anaconda3/envs/ds/lib/python3.9/site-packages (from pandas-profiling==2.9.0) (3.4.2)\n",
      "Requirement already satisfied: attrs>=19.3.0 in /Users/effiepeng/opt/anaconda3/envs/ds/lib/python3.9/site-packages (from pandas-profiling==2.9.0) (21.2.0)\n",
      "Requirement already satisfied: requests>=2.23.0 in /Users/effiepeng/opt/anaconda3/envs/ds/lib/python3.9/site-packages (from pandas-profiling==2.9.0) (2.25.1)\n",
      "Requirement already satisfied: pandas!=1.0.0,!=1.0.1,!=1.0.2,!=1.1.0,>=0.25.3 in /Users/effiepeng/opt/anaconda3/envs/ds/lib/python3.9/site-packages (from pandas-profiling==2.9.0) (1.2.5)\n",
      "Collecting confuse>=1.0.0\n",
      "  Downloading confuse-1.4.0-py2.py3-none-any.whl (21 kB)\n",
      "Requirement already satisfied: jinja2>=2.11.1 in /Users/effiepeng/opt/anaconda3/envs/ds/lib/python3.9/site-packages (from pandas-profiling==2.9.0) (3.0.1)\n",
      "Collecting missingno>=0.4.2\n",
      "  Downloading missingno-0.4.2-py3-none-any.whl (9.7 kB)\n",
      "Requirement already satisfied: numpy>=1.16.0 in /Users/effiepeng/opt/anaconda3/envs/ds/lib/python3.9/site-packages (from pandas-profiling==2.9.0) (1.21.0)\n",
      "Collecting phik>=0.9.10\n",
      "  Downloading phik-0.11.2.tar.gz (1.1 MB)\n",
      "\u001b[K     |████████████████████████████████| 1.1 MB 8.8 MB/s eta 0:00:01\n",
      "\u001b[?25hCollecting tangled-up-in-unicode>=0.0.6\n",
      "  Downloading tangled_up_in_unicode-0.1.0-py3-none-any.whl (3.1 MB)\n",
      "\u001b[K     |████████████████████████████████| 3.1 MB 14.0 MB/s eta 0:00:01\n",
      "\u001b[?25hCollecting scipy>=1.4.1\n",
      "  Downloading scipy-1.7.0-cp39-cp39-macosx_10_9_x86_64.whl (32.1 MB)\n",
      "\u001b[K     |████████████████████████████████| 32.1 MB 19.1 MB/s eta 0:00:01\n",
      "\u001b[?25hCollecting joblib\n",
      "  Downloading joblib-1.0.1-py3-none-any.whl (303 kB)\n",
      "\u001b[K     |████████████████████████████████| 303 kB 33.4 MB/s eta 0:00:01\n",
      "\u001b[?25hCollecting visions[type_image_path]==0.5.0\n",
      "  Downloading visions-0.5.0-py3-none-any.whl (64 kB)\n",
      "\u001b[K     |████████████████████████████████| 64 kB 8.0 MB/s  eta 0:00:01\n",
      "\u001b[?25hCollecting htmlmin>=0.1.12\n",
      "  Downloading htmlmin-0.1.12.tar.gz (19 kB)\n",
      "Collecting seaborn>=0.10.1\n",
      "  Downloading seaborn-0.11.1-py3-none-any.whl (285 kB)\n",
      "\u001b[K     |████████████████████████████████| 285 kB 15.5 MB/s eta 0:00:01\n",
      "\u001b[?25hCollecting tqdm>=4.43.0\n",
      "  Downloading tqdm-4.61.1-py2.py3-none-any.whl (75 kB)\n",
      "\u001b[K     |████████████████████████████████| 75 kB 10.2 MB/s eta 0:00:01\n",
      "\u001b[?25hCollecting networkx>=2.4\n",
      "  Downloading networkx-2.5.1-py3-none-any.whl (1.6 MB)\n",
      "\u001b[K     |████████████████████████████████| 1.6 MB 35.1 MB/s eta 0:00:01\n",
      "\u001b[?25hRequirement already satisfied: Pillow in /Users/effiepeng/opt/anaconda3/envs/ds/lib/python3.9/site-packages (from visions[type_image_path]==0.5.0->pandas-profiling==2.9.0) (8.2.0)\n",
      "Collecting imagehash\n",
      "  Downloading ImageHash-4.2.0-py2.py3-none-any.whl (295 kB)\n",
      "\u001b[K     |████████████████████████████████| 295 kB 35.0 MB/s eta 0:00:01\n",
      "\u001b[?25hCollecting pyyaml\n",
      "  Downloading PyYAML-5.4.1-cp39-cp39-macosx_10_9_x86_64.whl (259 kB)\n",
      "\u001b[K     |████████████████████████████████| 259 kB 41.4 MB/s eta 0:00:01\n",
      "\u001b[?25hRequirement already satisfied: ipykernel>=4.5.1 in /Users/effiepeng/opt/anaconda3/envs/ds/lib/python3.9/site-packages (from ipywidgets>=7.5.1->pandas-profiling==2.9.0) (5.5.5)\n",
      "Requirement already satisfied: traitlets>=4.3.1 in /Users/effiepeng/opt/anaconda3/envs/ds/lib/python3.9/site-packages (from ipywidgets>=7.5.1->pandas-profiling==2.9.0) (5.0.5)\n",
      "Requirement already satisfied: ipython>=4.0.0 in /Users/effiepeng/opt/anaconda3/envs/ds/lib/python3.9/site-packages (from ipywidgets>=7.5.1->pandas-profiling==2.9.0) (7.24.1)\n",
      "Requirement already satisfied: widgetsnbextension~=3.5.0 in /Users/effiepeng/opt/anaconda3/envs/ds/lib/python3.9/site-packages (from ipywidgets>=7.5.1->pandas-profiling==2.9.0) (3.5.1)\n",
      "Requirement already satisfied: jupyterlab-widgets>=1.0.0 in /Users/effiepeng/opt/anaconda3/envs/ds/lib/python3.9/site-packages (from ipywidgets>=7.5.1->pandas-profiling==2.9.0) (1.0.0)\n",
      "Requirement already satisfied: nbformat>=4.2.0 in /Users/effiepeng/opt/anaconda3/envs/ds/lib/python3.9/site-packages (from ipywidgets>=7.5.1->pandas-profiling==2.9.0) (5.1.3)\n",
      "Requirement already satisfied: jupyter-client in /Users/effiepeng/opt/anaconda3/envs/ds/lib/python3.9/site-packages (from ipykernel>=4.5.1->ipywidgets>=7.5.1->pandas-profiling==2.9.0) (6.1.12)\n",
      "Requirement already satisfied: appnope in /Users/effiepeng/opt/anaconda3/envs/ds/lib/python3.9/site-packages (from ipykernel>=4.5.1->ipywidgets>=7.5.1->pandas-profiling==2.9.0) (0.1.2)\n",
      "Requirement already satisfied: tornado>=4.2 in /Users/effiepeng/opt/anaconda3/envs/ds/lib/python3.9/site-packages (from ipykernel>=4.5.1->ipywidgets>=7.5.1->pandas-profiling==2.9.0) (6.1)\n",
      "Requirement already satisfied: prompt-toolkit!=3.0.0,!=3.0.1,<3.1.0,>=2.0.0 in /Users/effiepeng/opt/anaconda3/envs/ds/lib/python3.9/site-packages (from ipython>=4.0.0->ipywidgets>=7.5.1->pandas-profiling==2.9.0) (3.0.19)\n",
      "Requirement already satisfied: pygments in /Users/effiepeng/opt/anaconda3/envs/ds/lib/python3.9/site-packages (from ipython>=4.0.0->ipywidgets>=7.5.1->pandas-profiling==2.9.0) (2.9.0)\n",
      "Requirement already satisfied: matplotlib-inline in /Users/effiepeng/opt/anaconda3/envs/ds/lib/python3.9/site-packages (from ipython>=4.0.0->ipywidgets>=7.5.1->pandas-profiling==2.9.0) (0.1.2)\n",
      "Requirement already satisfied: setuptools>=18.5 in /Users/effiepeng/opt/anaconda3/envs/ds/lib/python3.9/site-packages (from ipython>=4.0.0->ipywidgets>=7.5.1->pandas-profiling==2.9.0) (49.6.0.post20210108)\n",
      "Requirement already satisfied: pexpect>4.3 in /Users/effiepeng/opt/anaconda3/envs/ds/lib/python3.9/site-packages (from ipython>=4.0.0->ipywidgets>=7.5.1->pandas-profiling==2.9.0) (4.8.0)\n",
      "Requirement already satisfied: decorator in /Users/effiepeng/opt/anaconda3/envs/ds/lib/python3.9/site-packages (from ipython>=4.0.0->ipywidgets>=7.5.1->pandas-profiling==2.9.0) (5.0.9)\n",
      "Requirement already satisfied: pickleshare in /Users/effiepeng/opt/anaconda3/envs/ds/lib/python3.9/site-packages (from ipython>=4.0.0->ipywidgets>=7.5.1->pandas-profiling==2.9.0) (0.7.5)\n",
      "Requirement already satisfied: jedi>=0.16 in /Users/effiepeng/opt/anaconda3/envs/ds/lib/python3.9/site-packages (from ipython>=4.0.0->ipywidgets>=7.5.1->pandas-profiling==2.9.0) (0.18.0)\n",
      "Requirement already satisfied: backcall in /Users/effiepeng/opt/anaconda3/envs/ds/lib/python3.9/site-packages (from ipython>=4.0.0->ipywidgets>=7.5.1->pandas-profiling==2.9.0) (0.2.0)\n",
      "Requirement already satisfied: parso<0.9.0,>=0.8.0 in /Users/effiepeng/opt/anaconda3/envs/ds/lib/python3.9/site-packages (from jedi>=0.16->ipython>=4.0.0->ipywidgets>=7.5.1->pandas-profiling==2.9.0) (0.8.2)\n",
      "Requirement already satisfied: MarkupSafe>=2.0 in /Users/effiepeng/opt/anaconda3/envs/ds/lib/python3.9/site-packages (from jinja2>=2.11.1->pandas-profiling==2.9.0) (2.0.1)\n",
      "Requirement already satisfied: cycler>=0.10 in /Users/effiepeng/opt/anaconda3/envs/ds/lib/python3.9/site-packages (from matplotlib>=3.2.0->pandas-profiling==2.9.0) (0.10.0)\n",
      "Requirement already satisfied: pyparsing>=2.2.1 in /Users/effiepeng/opt/anaconda3/envs/ds/lib/python3.9/site-packages (from matplotlib>=3.2.0->pandas-profiling==2.9.0) (2.4.7)\n",
      "Requirement already satisfied: kiwisolver>=1.0.1 in /Users/effiepeng/opt/anaconda3/envs/ds/lib/python3.9/site-packages (from matplotlib>=3.2.0->pandas-profiling==2.9.0) (1.3.1)\n",
      "Requirement already satisfied: python-dateutil>=2.7 in /Users/effiepeng/opt/anaconda3/envs/ds/lib/python3.9/site-packages (from matplotlib>=3.2.0->pandas-profiling==2.9.0) (2.8.1)\n",
      "Requirement already satisfied: six in /Users/effiepeng/opt/anaconda3/envs/ds/lib/python3.9/site-packages (from cycler>=0.10->matplotlib>=3.2.0->pandas-profiling==2.9.0) (1.16.0)\n",
      "Requirement already satisfied: jupyter-core in /Users/effiepeng/opt/anaconda3/envs/ds/lib/python3.9/site-packages (from nbformat>=4.2.0->ipywidgets>=7.5.1->pandas-profiling==2.9.0) (4.7.1)\n",
      "Requirement already satisfied: ipython-genutils in /Users/effiepeng/opt/anaconda3/envs/ds/lib/python3.9/site-packages (from nbformat>=4.2.0->ipywidgets>=7.5.1->pandas-profiling==2.9.0) (0.2.0)\n",
      "Requirement already satisfied: jsonschema!=2.5.0,>=2.4 in /Users/effiepeng/opt/anaconda3/envs/ds/lib/python3.9/site-packages (from nbformat>=4.2.0->ipywidgets>=7.5.1->pandas-profiling==2.9.0) (3.2.0)\n",
      "Requirement already satisfied: pyrsistent>=0.14.0 in /Users/effiepeng/opt/anaconda3/envs/ds/lib/python3.9/site-packages (from jsonschema!=2.5.0,>=2.4->nbformat>=4.2.0->ipywidgets>=7.5.1->pandas-profiling==2.9.0) (0.17.3)\n"
     ]
    },
    {
     "name": "stdout",
     "output_type": "stream",
     "text": [
      "Collecting decorator\n",
      "  Downloading decorator-4.4.2-py2.py3-none-any.whl (9.2 kB)\n",
      "Requirement already satisfied: pytz>=2017.3 in /Users/effiepeng/opt/anaconda3/envs/ds/lib/python3.9/site-packages (from pandas!=1.0.0,!=1.0.1,!=1.0.2,!=1.1.0,>=0.25.3->pandas-profiling==2.9.0) (2021.1)\n",
      "Requirement already satisfied: ptyprocess>=0.5 in /Users/effiepeng/opt/anaconda3/envs/ds/lib/python3.9/site-packages (from pexpect>4.3->ipython>=4.0.0->ipywidgets>=7.5.1->pandas-profiling==2.9.0) (0.7.0)\n",
      "Requirement already satisfied: wcwidth in /Users/effiepeng/opt/anaconda3/envs/ds/lib/python3.9/site-packages (from prompt-toolkit!=3.0.0,!=3.0.1,<3.1.0,>=2.0.0->ipython>=4.0.0->ipywidgets>=7.5.1->pandas-profiling==2.9.0) (0.2.5)\n",
      "Requirement already satisfied: urllib3<1.27,>=1.21.1 in /Users/effiepeng/opt/anaconda3/envs/ds/lib/python3.9/site-packages (from requests>=2.23.0->pandas-profiling==2.9.0) (1.26.5)\n",
      "Requirement already satisfied: chardet<5,>=3.0.2 in /Users/effiepeng/opt/anaconda3/envs/ds/lib/python3.9/site-packages (from requests>=2.23.0->pandas-profiling==2.9.0) (4.0.0)\n",
      "Requirement already satisfied: idna<3,>=2.5 in /Users/effiepeng/opt/anaconda3/envs/ds/lib/python3.9/site-packages (from requests>=2.23.0->pandas-profiling==2.9.0) (2.10)\n",
      "Requirement already satisfied: certifi>=2017.4.17 in /Users/effiepeng/opt/anaconda3/envs/ds/lib/python3.9/site-packages (from requests>=2.23.0->pandas-profiling==2.9.0) (2021.5.30)\n",
      "Requirement already satisfied: notebook>=4.4.1 in /Users/effiepeng/opt/anaconda3/envs/ds/lib/python3.9/site-packages (from widgetsnbextension~=3.5.0->ipywidgets>=7.5.1->pandas-profiling==2.9.0) (6.4.0)\n",
      "Requirement already satisfied: Send2Trash>=1.5.0 in /Users/effiepeng/opt/anaconda3/envs/ds/lib/python3.9/site-packages (from notebook>=4.4.1->widgetsnbextension~=3.5.0->ipywidgets>=7.5.1->pandas-profiling==2.9.0) (1.7.1)\n",
      "Requirement already satisfied: argon2-cffi in /Users/effiepeng/opt/anaconda3/envs/ds/lib/python3.9/site-packages (from notebook>=4.4.1->widgetsnbextension~=3.5.0->ipywidgets>=7.5.1->pandas-profiling==2.9.0) (20.1.0)\n",
      "Requirement already satisfied: pyzmq>=17 in /Users/effiepeng/opt/anaconda3/envs/ds/lib/python3.9/site-packages (from notebook>=4.4.1->widgetsnbextension~=3.5.0->ipywidgets>=7.5.1->pandas-profiling==2.9.0) (22.1.0)\n",
      "Requirement already satisfied: nbconvert in /Users/effiepeng/opt/anaconda3/envs/ds/lib/python3.9/site-packages (from notebook>=4.4.1->widgetsnbextension~=3.5.0->ipywidgets>=7.5.1->pandas-profiling==2.9.0) (6.1.0)\n",
      "Requirement already satisfied: prometheus-client in /Users/effiepeng/opt/anaconda3/envs/ds/lib/python3.9/site-packages (from notebook>=4.4.1->widgetsnbextension~=3.5.0->ipywidgets>=7.5.1->pandas-profiling==2.9.0) (0.11.0)\n",
      "Requirement already satisfied: terminado>=0.8.3 in /Users/effiepeng/opt/anaconda3/envs/ds/lib/python3.9/site-packages (from notebook>=4.4.1->widgetsnbextension~=3.5.0->ipywidgets>=7.5.1->pandas-profiling==2.9.0) (0.10.1)\n",
      "Requirement already satisfied: cffi>=1.0.0 in /Users/effiepeng/opt/anaconda3/envs/ds/lib/python3.9/site-packages (from argon2-cffi->notebook>=4.4.1->widgetsnbextension~=3.5.0->ipywidgets>=7.5.1->pandas-profiling==2.9.0) (1.14.5)\n",
      "Requirement already satisfied: pycparser in /Users/effiepeng/opt/anaconda3/envs/ds/lib/python3.9/site-packages (from cffi>=1.0.0->argon2-cffi->notebook>=4.4.1->widgetsnbextension~=3.5.0->ipywidgets>=7.5.1->pandas-profiling==2.9.0) (2.20)\n",
      "Collecting PyWavelets\n",
      "  Downloading PyWavelets-1.1.1-cp39-cp39-macosx_10_9_x86_64.whl (4.3 MB)\n",
      "\u001b[K     |████████████████████████████████| 4.3 MB 18.6 MB/s eta 0:00:01\n",
      "\u001b[?25hRequirement already satisfied: pandocfilters>=1.4.1 in /Users/effiepeng/opt/anaconda3/envs/ds/lib/python3.9/site-packages (from nbconvert->notebook>=4.4.1->widgetsnbextension~=3.5.0->ipywidgets>=7.5.1->pandas-profiling==2.9.0) (1.4.2)\n",
      "Requirement already satisfied: testpath in /Users/effiepeng/opt/anaconda3/envs/ds/lib/python3.9/site-packages (from nbconvert->notebook>=4.4.1->widgetsnbextension~=3.5.0->ipywidgets>=7.5.1->pandas-profiling==2.9.0) (0.5.0)\n",
      "Requirement already satisfied: mistune<2,>=0.8.1 in /Users/effiepeng/opt/anaconda3/envs/ds/lib/python3.9/site-packages (from nbconvert->notebook>=4.4.1->widgetsnbextension~=3.5.0->ipywidgets>=7.5.1->pandas-profiling==2.9.0) (0.8.4)\n",
      "Requirement already satisfied: entrypoints>=0.2.2 in /Users/effiepeng/opt/anaconda3/envs/ds/lib/python3.9/site-packages (from nbconvert->notebook>=4.4.1->widgetsnbextension~=3.5.0->ipywidgets>=7.5.1->pandas-profiling==2.9.0) (0.3)\n",
      "Requirement already satisfied: nbclient<0.6.0,>=0.5.0 in /Users/effiepeng/opt/anaconda3/envs/ds/lib/python3.9/site-packages (from nbconvert->notebook>=4.4.1->widgetsnbextension~=3.5.0->ipywidgets>=7.5.1->pandas-profiling==2.9.0) (0.5.3)\n",
      "Requirement already satisfied: bleach in /Users/effiepeng/opt/anaconda3/envs/ds/lib/python3.9/site-packages (from nbconvert->notebook>=4.4.1->widgetsnbextension~=3.5.0->ipywidgets>=7.5.1->pandas-profiling==2.9.0) (3.3.0)\n",
      "Requirement already satisfied: defusedxml in /Users/effiepeng/opt/anaconda3/envs/ds/lib/python3.9/site-packages (from nbconvert->notebook>=4.4.1->widgetsnbextension~=3.5.0->ipywidgets>=7.5.1->pandas-profiling==2.9.0) (0.7.1)\n",
      "Requirement already satisfied: jupyterlab-pygments in /Users/effiepeng/opt/anaconda3/envs/ds/lib/python3.9/site-packages (from nbconvert->notebook>=4.4.1->widgetsnbextension~=3.5.0->ipywidgets>=7.5.1->pandas-profiling==2.9.0) (0.1.2)\n",
      "Requirement already satisfied: nest-asyncio in /Users/effiepeng/opt/anaconda3/envs/ds/lib/python3.9/site-packages (from nbclient<0.6.0,>=0.5.0->nbconvert->notebook>=4.4.1->widgetsnbextension~=3.5.0->ipywidgets>=7.5.1->pandas-profiling==2.9.0) (1.5.1)\n",
      "Requirement already satisfied: async-generator in /Users/effiepeng/opt/anaconda3/envs/ds/lib/python3.9/site-packages (from nbclient<0.6.0,>=0.5.0->nbconvert->notebook>=4.4.1->widgetsnbextension~=3.5.0->ipywidgets>=7.5.1->pandas-profiling==2.9.0) (1.10)\n",
      "Requirement already satisfied: packaging in /Users/effiepeng/opt/anaconda3/envs/ds/lib/python3.9/site-packages (from bleach->nbconvert->notebook>=4.4.1->widgetsnbextension~=3.5.0->ipywidgets>=7.5.1->pandas-profiling==2.9.0) (20.9)\n",
      "Requirement already satisfied: webencodings in /Users/effiepeng/opt/anaconda3/envs/ds/lib/python3.9/site-packages (from bleach->nbconvert->notebook>=4.4.1->widgetsnbextension~=3.5.0->ipywidgets>=7.5.1->pandas-profiling==2.9.0) (0.5.1)\n",
      "Building wheels for collected packages: htmlmin, phik\n",
      "  Building wheel for htmlmin (setup.py) ... \u001b[?25ldone\n",
      "\u001b[?25h  Created wheel for htmlmin: filename=htmlmin-0.1.12-py3-none-any.whl size=27085 sha256=b4f4887b2076e1a2297f24b6401745fcf553d8b0977b836ef902a5e1d0fa559d\n",
      "  Stored in directory: /Users/effiepeng/Library/Caches/pip/wheels/1d/05/04/c6d7d3b66539d9e659ac6dfe81e2d0fd4c1a8316cc5a403300\n",
      "  Building wheel for phik (setup.py) ... \u001b[?25ldone\n",
      "\u001b[?25h  Created wheel for phik: filename=phik-0.11.2-py3-none-any.whl size=1107412 sha256=b618cf7502e2d0b3f658afe82144673deb7133b01976fee6d4b71e6e0c0ad183\n",
      "  Stored in directory: /Users/effiepeng/Library/Caches/pip/wheels/33/27/89/ad03afe7566e638322663c4ae4e1e2c9fd15864578e8883e1c\n",
      "Successfully built htmlmin phik\n",
      "Installing collected packages: decorator, tangled-up-in-unicode, scipy, PyWavelets, networkx, visions, seaborn, pyyaml, joblib, imagehash, tqdm, phik, missingno, htmlmin, confuse, pandas-profiling\n",
      "  Attempting uninstall: decorator\n",
      "    Found existing installation: decorator 5.0.9\n",
      "    Uninstalling decorator-5.0.9:\n",
      "      Successfully uninstalled decorator-5.0.9\n",
      "Successfully installed PyWavelets-1.1.1 confuse-1.4.0 decorator-4.4.2 htmlmin-0.1.12 imagehash-4.2.0 joblib-1.0.1 missingno-0.4.2 networkx-2.5.1 pandas-profiling-2.9.0 phik-0.11.2 pyyaml-5.4.1 scipy-1.7.0 seaborn-0.11.1 tangled-up-in-unicode-0.1.0 tqdm-4.61.1 visions-0.5.0\n",
      "Enabling notebook extension jupyter-js-widgets/extension...\n",
      "      - Validating: \u001b[32mOK\u001b[0m\n"
     ]
    }
   ],
   "source": [
    "# uncomment and run below if you need to pip install the pandas-profiling library\n",
    "import sys\n",
    "!{sys.executable} -m pip install -U pandas-profiling==2.9.0\n",
    "!jupyter nbextension enable --py widgetsnbextension"
   ]
  },
  {
   "cell_type": "markdown",
   "metadata": {},
   "source": [
    "You might want to restart the kernel now."
   ]
  },
  {
   "cell_type": "markdown",
   "metadata": {},
   "source": [
    "### Import libraries"
   ]
  },
  {
   "cell_type": "code",
   "execution_count": 4,
   "metadata": {},
   "outputs": [
    {
     "name": "stdout",
     "output_type": "stream",
     "text": [
      "# packages in environment at /Users/effiepeng/opt/anaconda3/envs/ds:\r\n",
      "#\r\n",
      "# Name                    Version                   Build  Channel\r\n",
      "appnope                   0.1.2            py39h6e9494a_1    conda-forge\r\n",
      "argon2-cffi               20.1.0           py39hcbf5805_2    conda-forge\r\n",
      "async_generator           1.10                       py_0    conda-forge\r\n",
      "attrs                     21.2.0             pyhd8ed1ab_0    conda-forge\r\n",
      "backcall                  0.2.0              pyh9f0ad1d_0    conda-forge\r\n",
      "backports                 1.0                        py_2    conda-forge\r\n",
      "backports.functools_lru_cache 1.6.4              pyhd8ed1ab_0    conda-forge\r\n",
      "bleach                    3.3.0              pyh44b312d_0    conda-forge\r\n",
      "brotlipy                  0.7.0           py39hcbf5805_1001    conda-forge\r\n",
      "ca-certificates           2021.5.30            h033912b_0    conda-forge\r\n",
      "certifi                   2021.5.30        py39h6e9494a_0    conda-forge\r\n",
      "cffi                      1.14.5           py39h319c39b_0    conda-forge\r\n",
      "chardet                   4.0.0            py39h6e9494a_1    conda-forge\r\n",
      "cryptography              3.4.7            py39ha2c9959_0    conda-forge\r\n",
      "cycler                    0.10.0                     py_2    conda-forge\r\n",
      "dbus                      1.13.6               ha13b53f_2    conda-forge\r\n",
      "decorator                 5.0.9              pyhd8ed1ab_0    conda-forge\r\n",
      "defusedxml                0.7.1              pyhd8ed1ab_0    conda-forge\r\n",
      "entrypoints               0.3             pyhd8ed1ab_1003    conda-forge\r\n",
      "expat                     2.4.1                he49afe7_0    conda-forge\r\n",
      "freetype                  2.10.4               h4cff582_1    conda-forge\r\n",
      "gettext                   0.19.8.1          h7937167_1005    conda-forge\r\n",
      "glib                      2.68.3               he49afe7_0    conda-forge\r\n",
      "glib-tools                2.68.3               he49afe7_0    conda-forge\r\n",
      "icu                       68.1                 h74dc148_0    conda-forge\r\n",
      "idna                      2.10               pyh9f0ad1d_0    conda-forge\r\n",
      "importlib-metadata        4.5.0            py39h6e9494a_0    conda-forge\r\n",
      "ipykernel                 5.5.5            py39h71a6800_0    conda-forge\r\n",
      "ipython                   7.24.1           py39h71a6800_0    conda-forge\r\n",
      "ipython_genutils          0.2.0                      py_1    conda-forge\r\n",
      "ipywidgets                7.6.3              pyhd3deb0d_0    conda-forge\r\n",
      "jbig                      2.1               h0d85af4_2003    conda-forge\r\n",
      "jedi                      0.18.0           py39h6e9494a_2    conda-forge\r\n",
      "jinja2                    3.0.1              pyhd8ed1ab_0    conda-forge\r\n",
      "jpeg                      9d                   hbcb3906_0    conda-forge\r\n",
      "jsonschema                3.2.0              pyhd8ed1ab_3    conda-forge\r\n",
      "jupyter                   1.0.0            py39h6e9494a_6    conda-forge\r\n",
      "jupyter_client            6.1.12             pyhd8ed1ab_0    conda-forge\r\n",
      "jupyter_console           6.4.0              pyhd8ed1ab_0    conda-forge\r\n",
      "jupyter_core              4.7.1            py39h6e9494a_0    conda-forge\r\n",
      "jupyterlab_pygments       0.1.2              pyh9f0ad1d_0    conda-forge\r\n",
      "jupyterlab_widgets        1.0.0              pyhd8ed1ab_1    conda-forge\r\n",
      "kiwisolver                1.3.1            py39hedf5dff_1    conda-forge\r\n",
      "krb5                      1.19.1               hcfbf3a7_0    conda-forge\r\n",
      "lcms2                     2.12                 h577c468_0    conda-forge\r\n",
      "lerc                      2.2.1                h046ec9c_0    conda-forge\r\n",
      "libblas                   3.9.0                9_openblas    conda-forge\r\n",
      "libcblas                  3.9.0                9_openblas    conda-forge\r\n",
      "libclang                  11.1.0          default_he082bbe_1    conda-forge\r\n",
      "libcxx                    11.1.0               habf9029_0    conda-forge\r\n",
      "libdeflate                1.7                  h35c211d_5    conda-forge\r\n",
      "libedit                   3.1.20191231         h0678c8f_2    conda-forge\r\n",
      "libffi                    3.3                  h046ec9c_2    conda-forge\r\n",
      "libgfortran               5.0.0           9_3_0_h6c81a4c_22    conda-forge\r\n",
      "libgfortran5              9.3.0               h6c81a4c_22    conda-forge\r\n",
      "libglib                   2.68.3               hd556434_0    conda-forge\r\n",
      "libiconv                  1.16                 haf1e3a3_0    conda-forge\r\n",
      "liblapack                 3.9.0                9_openblas    conda-forge\r\n",
      "libllvm11                 11.1.0               hd011deb_2    conda-forge\r\n",
      "libopenblas               0.3.15          openmp_h5e1b9a4_1    conda-forge\r\n",
      "libpng                    1.6.37               h7cec526_2    conda-forge\r\n",
      "libpq                     13.3                 hea3049e_0    conda-forge\r\n",
      "libsodium                 1.0.18               hbcb3906_1    conda-forge\r\n",
      "libtiff                   4.3.0                h1167814_1    conda-forge\r\n",
      "libwebp-base              1.2.0                h0d85af4_2    conda-forge\r\n",
      "llvm-openmp               11.1.0               hda6cdc1_1    conda-forge\r\n",
      "lz4-c                     1.9.3                h046ec9c_0    conda-forge\r\n",
      "markupsafe                2.0.1            py39h89e85a6_0    conda-forge\r\n",
      "matplotlib                3.4.2            py39h6e9494a_0    conda-forge\r\n",
      "matplotlib-base           3.4.2            py39hb07454d_0    conda-forge\r\n",
      "matplotlib-inline         0.1.2              pyhd8ed1ab_2    conda-forge\r\n",
      "mistune                   0.8.4           py39hcbf5805_1003    conda-forge\r\n",
      "mysql-common              8.0.25               h694c41f_2    conda-forge\r\n",
      "mysql-libs                8.0.25               h115446f_2    conda-forge\r\n",
      "nbclient                  0.5.3              pyhd8ed1ab_0    conda-forge\r\n",
      "nbconvert                 6.1.0            py39h6e9494a_0    conda-forge\r\n",
      "nbformat                  5.1.3              pyhd8ed1ab_0    conda-forge\r\n",
      "ncurses                   6.2                  h2e338ed_4    conda-forge\r\n",
      "nest-asyncio              1.5.1              pyhd8ed1ab_0    conda-forge\r\n",
      "notebook                  6.4.0              pyha770c72_0    conda-forge\r\n",
      "nspr                      4.30                 hcd9eead_0    conda-forge\r\n",
      "nss                       3.67                 h31e2bf1_0    conda-forge\r\n",
      "numpy                     1.21.0           py39h7eed0ac_0    conda-forge\r\n",
      "olefile                   0.46               pyh9f0ad1d_1    conda-forge\r\n",
      "openjpeg                  2.4.0                h6e7aa92_1    conda-forge\r\n",
      "openssl                   1.1.1k               h0d85af4_0    conda-forge\r\n",
      "packaging                 20.9               pyh44b312d_0    conda-forge\r\n",
      "pandas                    1.2.5            py39h4d6be9b_0    conda-forge\r\n",
      "pandas-profiling          1.4.1                         0    conda-forge\r\n",
      "pandoc                    2.14.0.3             h0d85af4_0    conda-forge\r\n",
      "pandocfilters             1.4.2                      py_1    conda-forge\r\n",
      "parso                     0.8.2              pyhd8ed1ab_0    conda-forge\r\n",
      "pcre                      8.45                 he49afe7_0    conda-forge\r\n",
      "pexpect                   4.8.0              pyh9f0ad1d_2    conda-forge\r\n",
      "pickleshare               0.7.5                   py_1003    conda-forge\r\n",
      "pillow                    8.2.0            py39h5fdd921_1    conda-forge\r\n",
      "pip                       21.1.2             pyhd8ed1ab_0    conda-forge\r\n",
      "prometheus_client         0.11.0             pyhd8ed1ab_0    conda-forge\r\n",
      "prompt-toolkit            3.0.19             pyha770c72_0    conda-forge\r\n",
      "prompt_toolkit            3.0.19               hd8ed1ab_0    conda-forge\r\n",
      "ptyprocess                0.7.0              pyhd3deb0d_0    conda-forge\r\n",
      "pycparser                 2.20               pyh9f0ad1d_2    conda-forge\r\n",
      "pygments                  2.9.0              pyhd8ed1ab_0    conda-forge\r\n",
      "pyopenssl                 20.0.1             pyhd8ed1ab_0    conda-forge\r\n",
      "pyparsing                 2.4.7              pyh9f0ad1d_0    conda-forge\r\n",
      "pyqt                      5.12.3           py39h6e9494a_7    conda-forge\r\n",
      "pyqt-impl                 5.12.3           py39hef7122c_7    conda-forge\r\n",
      "pyqt5-sip                 4.19.18          py39hd8f94c5_7    conda-forge\r\n",
      "pyqtchart                 5.12             py39hef7122c_7    conda-forge\r\n",
      "pyqtwebengine             5.12.1           py39hef7122c_7    conda-forge\r\n",
      "pyrsistent                0.17.3           py39hcbf5805_2    conda-forge\r\n",
      "pysocks                   1.7.1            py39h6e9494a_3    conda-forge\r\n",
      "python                    3.9.5           hd187cdc_0_cpython    conda-forge\r\n",
      "python-dateutil           2.8.1                      py_0    conda-forge\r\n",
      "python_abi                3.9                      2_cp39    conda-forge\r\n",
      "pytz                      2021.1             pyhd8ed1ab_0    conda-forge\r\n",
      "pyzmq                     22.1.0           py39h7fec2f1_0    conda-forge\r\n",
      "qt                        5.12.9               h126340a_4    conda-forge\r\n",
      "qtconsole                 5.1.0              pyhd8ed1ab_0    conda-forge\r\n",
      "qtpy                      1.9.0                      py_0    conda-forge\r\n",
      "readline                  8.1                  h05e3726_0    conda-forge\r\n",
      "requests                  2.25.1             pyhd3deb0d_0    conda-forge\r\n",
      "send2trash                1.7.1              pyhd8ed1ab_0    conda-forge\r\n",
      "setuptools                49.6.0           py39h6e9494a_3    conda-forge\r\n",
      "six                       1.16.0             pyh6c4a22f_0    conda-forge\r\n",
      "sqlite                    3.36.0               h23a322b_0    conda-forge\r\n",
      "terminado                 0.10.1           py39h6e9494a_0    conda-forge\r\n",
      "testpath                  0.5.0              pyhd8ed1ab_0    conda-forge\r\n",
      "tk                        8.6.10               h0419947_1    conda-forge\r\n",
      "tornado                   6.1              py39hcbf5805_1    conda-forge\r\n",
      "traitlets                 5.0.5                      py_0    conda-forge\r\n",
      "tzdata                    2021a                he74cb21_0    conda-forge\r\n",
      "urllib3                   1.26.5             pyhd8ed1ab_0    conda-forge\r\n",
      "wcwidth                   0.2.5              pyh9f0ad1d_2    conda-forge\r\n",
      "webencodings              0.5.1                      py_1    conda-forge\r\n",
      "wheel                     0.36.2             pyhd3deb0d_0    conda-forge\r\n",
      "widgetsnbextension        3.5.1            py39h6e9494a_4    conda-forge\r\n",
      "xz                        5.2.5                haf1e3a3_1    conda-forge\r\n",
      "zeromq                    4.3.4                h1c7c35f_0    conda-forge\r\n",
      "zipp                      3.4.1              pyhd8ed1ab_0    conda-forge\r\n",
      "zlib                      1.2.11            h7795811_1010    conda-forge\r\n",
      "zstd                      1.5.0                h582d3a0_0    conda-forge\r\n"
     ]
    }
   ],
   "source": [
    "!conda list"
   ]
  },
  {
   "cell_type": "code",
   "execution_count": 9,
   "metadata": {},
   "outputs": [
    {
     "name": "stdout",
     "output_type": "stream",
     "text": [
      "# packages in environment at /Users/effiepeng/opt/anaconda3/envs/ds:\n",
      "#\n",
      "# Name                    Version                   Build  Channel\n",
      "appnope                   0.1.2            py39h6e9494a_1    conda-forge\n",
      "argon2-cffi               20.1.0           py39hcbf5805_2    conda-forge\n",
      "async_generator           1.10                       py_0    conda-forge\n",
      "attrs                     21.2.0             pyhd8ed1ab_0    conda-forge\n",
      "backcall                  0.2.0              pyh9f0ad1d_0    conda-forge\n",
      "backports                 1.0                        py_2    conda-forge\n",
      "backports.functools_lru_cache 1.6.4              pyhd8ed1ab_0    conda-forge\n",
      "bleach                    3.3.0              pyh44b312d_0    conda-forge\n",
      "brotlipy                  0.7.0           py39hcbf5805_1001    conda-forge\n",
      "ca-certificates           2021.5.30            h033912b_0    conda-forge\n",
      "certifi                   2021.5.30        py39h6e9494a_0    conda-forge\n",
      "cffi                      1.14.5           py39h319c39b_0    conda-forge\n",
      "chardet                   4.0.0            py39h6e9494a_1    conda-forge\n",
      "confuse                   1.4.0                    pypi_0    pypi\n",
      "cryptography              3.4.7            py39ha2c9959_0    conda-forge\n",
      "cycler                    0.10.0                     py_2    conda-forge\n",
      "dbus                      1.13.6               ha13b53f_2    conda-forge\n",
      "decorator                 4.4.2                    pypi_0    pypi\n",
      "defusedxml                0.7.1              pyhd8ed1ab_0    conda-forge\n",
      "entrypoints               0.3             pyhd8ed1ab_1003    conda-forge\n",
      "expat                     2.4.1                he49afe7_0    conda-forge\n",
      "freetype                  2.10.4               h4cff582_1    conda-forge\n",
      "gettext                   0.19.8.1          h7937167_1005    conda-forge\n",
      "glib                      2.68.3               he49afe7_0    conda-forge\n",
      "glib-tools                2.68.3               he49afe7_0    conda-forge\n",
      "htmlmin                   0.1.12                   pypi_0    pypi\n",
      "icu                       68.1                 h74dc148_0    conda-forge\n",
      "idna                      2.10               pyh9f0ad1d_0    conda-forge\n",
      "imagehash                 4.2.0                    pypi_0    pypi\n",
      "importlib-metadata        4.5.0            py39h6e9494a_0    conda-forge\n",
      "ipykernel                 5.5.5            py39h71a6800_0    conda-forge\n",
      "ipython                   7.24.1           py39h71a6800_0    conda-forge\n",
      "ipython_genutils          0.2.0                      py_1    conda-forge\n",
      "ipywidgets                7.6.3              pyhd3deb0d_0    conda-forge\n",
      "jbig                      2.1               h0d85af4_2003    conda-forge\n",
      "jedi                      0.18.0           py39h6e9494a_2    conda-forge\n",
      "jinja2                    3.0.1              pyhd8ed1ab_0    conda-forge\n",
      "joblib                    1.0.1                    pypi_0    pypi\n",
      "jpeg                      9d                   hbcb3906_0    conda-forge\n",
      "jsonschema                3.2.0              pyhd8ed1ab_3    conda-forge\n",
      "jupyter                   1.0.0            py39h6e9494a_6    conda-forge\n",
      "jupyter_client            6.1.12             pyhd8ed1ab_0    conda-forge\n",
      "jupyter_console           6.4.0              pyhd8ed1ab_0    conda-forge\n",
      "jupyter_core              4.7.1            py39h6e9494a_0    conda-forge\n",
      "jupyterlab_pygments       0.1.2              pyh9f0ad1d_0    conda-forge\n",
      "jupyterlab_widgets        1.0.0              pyhd8ed1ab_1    conda-forge\n",
      "kiwisolver                1.3.1            py39hedf5dff_1    conda-forge\n",
      "krb5                      1.19.1               hcfbf3a7_0    conda-forge\n",
      "lcms2                     2.12                 h577c468_0    conda-forge\n",
      "lerc                      2.2.1                h046ec9c_0    conda-forge\n",
      "libblas                   3.9.0                9_openblas    conda-forge\n",
      "libcblas                  3.9.0                9_openblas    conda-forge\n",
      "libclang                  11.1.0          default_he082bbe_1    conda-forge\n",
      "libcxx                    11.1.0               habf9029_0    conda-forge\n",
      "libdeflate                1.7                  h35c211d_5    conda-forge\n",
      "libedit                   3.1.20191231         h0678c8f_2    conda-forge\n",
      "libffi                    3.3                  h046ec9c_2    conda-forge\n",
      "libgfortran               5.0.0           9_3_0_h6c81a4c_22    conda-forge\n",
      "libgfortran5              9.3.0               h6c81a4c_22    conda-forge\n",
      "libglib                   2.68.3               hd556434_0    conda-forge\n",
      "libiconv                  1.16                 haf1e3a3_0    conda-forge\n",
      "liblapack                 3.9.0                9_openblas    conda-forge\n",
      "libllvm11                 11.1.0               hd011deb_2    conda-forge\n",
      "libopenblas               0.3.15          openmp_h5e1b9a4_1    conda-forge\n",
      "libpng                    1.6.37               h7cec526_2    conda-forge\n",
      "libpq                     13.3                 hea3049e_0    conda-forge\n",
      "libsodium                 1.0.18               hbcb3906_1    conda-forge\n",
      "libtiff                   4.3.0                h1167814_1    conda-forge\n",
      "libwebp-base              1.2.0                h0d85af4_2    conda-forge\n",
      "llvm-openmp               11.1.0               hda6cdc1_1    conda-forge\n",
      "lz4-c                     1.9.3                h046ec9c_0    conda-forge\n",
      "markupsafe                2.0.1            py39h89e85a6_0    conda-forge\n",
      "matplotlib                3.4.2            py39h6e9494a_0    conda-forge\n",
      "matplotlib-base           3.4.2            py39hb07454d_0    conda-forge\n",
      "matplotlib-inline         0.1.2              pyhd8ed1ab_2    conda-forge\n",
      "missingno                 0.4.2                    pypi_0    pypi\n",
      "mistune                   0.8.4           py39hcbf5805_1003    conda-forge\n",
      "mysql-common              8.0.25               h694c41f_2    conda-forge\n",
      "mysql-libs                8.0.25               h115446f_2    conda-forge\n",
      "nbclient                  0.5.3              pyhd8ed1ab_0    conda-forge\n",
      "nbconvert                 6.1.0            py39h6e9494a_0    conda-forge\n",
      "nbformat                  5.1.3              pyhd8ed1ab_0    conda-forge\n",
      "ncurses                   6.2                  h2e338ed_4    conda-forge\n",
      "nest-asyncio              1.5.1              pyhd8ed1ab_0    conda-forge\n",
      "networkx                  2.5.1                    pypi_0    pypi\n",
      "notebook                  6.4.0              pyha770c72_0    conda-forge\n",
      "nspr                      4.30                 hcd9eead_0    conda-forge\n",
      "nss                       3.67                 h31e2bf1_0    conda-forge\n",
      "numpy                     1.21.0           py39h7eed0ac_0    conda-forge\n",
      "olefile                   0.46               pyh9f0ad1d_1    conda-forge\n",
      "openjpeg                  2.4.0                h6e7aa92_1    conda-forge\n",
      "openssl                   1.1.1k               h0d85af4_0    conda-forge\n",
      "packaging                 20.9               pyh44b312d_0    conda-forge\n",
      "pandas                    1.2.5            py39h4d6be9b_0    conda-forge\n",
      "pandas-profiling          2.9.0                    pypi_0    pypi\n",
      "pandoc                    2.14.0.3             h0d85af4_0    conda-forge\n",
      "pandocfilters             1.4.2                      py_1    conda-forge\n",
      "parso                     0.8.2              pyhd8ed1ab_0    conda-forge\n",
      "pcre                      8.45                 he49afe7_0    conda-forge\n",
      "pexpect                   4.8.0              pyh9f0ad1d_2    conda-forge\n",
      "phik                      0.11.2                   pypi_0    pypi\n",
      "pickleshare               0.7.5                   py_1003    conda-forge\n",
      "pillow                    8.2.0            py39h5fdd921_1    conda-forge\n",
      "pip                       21.1.2             pyhd8ed1ab_0    conda-forge\n",
      "prometheus_client         0.11.0             pyhd8ed1ab_0    conda-forge\n",
      "prompt-toolkit            3.0.19             pyha770c72_0    conda-forge\n",
      "prompt_toolkit            3.0.19               hd8ed1ab_0    conda-forge\n",
      "ptyprocess                0.7.0              pyhd3deb0d_0    conda-forge\n",
      "pycparser                 2.20               pyh9f0ad1d_2    conda-forge\n",
      "pygments                  2.9.0              pyhd8ed1ab_0    conda-forge\n",
      "pyopenssl                 20.0.1             pyhd8ed1ab_0    conda-forge\n",
      "pyparsing                 2.4.7              pyh9f0ad1d_0    conda-forge\n",
      "pyqt                      5.12.3           py39h6e9494a_7    conda-forge\n",
      "pyqt-impl                 5.12.3           py39hef7122c_7    conda-forge\n",
      "pyqt5-sip                 4.19.18          py39hd8f94c5_7    conda-forge\n",
      "pyqtchart                 5.12             py39hef7122c_7    conda-forge\n",
      "pyqtwebengine             5.12.1           py39hef7122c_7    conda-forge\n",
      "pyrsistent                0.17.3           py39hcbf5805_2    conda-forge\n",
      "pysocks                   1.7.1            py39h6e9494a_3    conda-forge\n",
      "python                    3.9.5           hd187cdc_0_cpython    conda-forge\n",
      "python-dateutil           2.8.1                      py_0    conda-forge\n",
      "python_abi                3.9                      2_cp39    conda-forge\n",
      "pytz                      2021.1             pyhd8ed1ab_0    conda-forge\n",
      "pywavelets                1.1.1                    pypi_0    pypi\n",
      "pyyaml                    5.4.1                    pypi_0    pypi\n",
      "pyzmq                     22.1.0           py39h7fec2f1_0    conda-forge\n",
      "qt                        5.12.9               h126340a_4    conda-forge\n",
      "qtconsole                 5.1.0              pyhd8ed1ab_0    conda-forge\n",
      "qtpy                      1.9.0                      py_0    conda-forge\n",
      "readline                  8.1                  h05e3726_0    conda-forge\n",
      "requests                  2.25.1             pyhd3deb0d_0    conda-forge\n",
      "scipy                     1.7.0                    pypi_0    pypi\n",
      "seaborn                   0.11.1                   pypi_0    pypi\n",
      "send2trash                1.7.1              pyhd8ed1ab_0    conda-forge\n",
      "setuptools                49.6.0           py39h6e9494a_3    conda-forge\n",
      "six                       1.16.0             pyh6c4a22f_0    conda-forge\n",
      "sqlite                    3.36.0               h23a322b_0    conda-forge\n",
      "tangled-up-in-unicode     0.1.0                    pypi_0    pypi\n",
      "terminado                 0.10.1           py39h6e9494a_0    conda-forge\n",
      "testpath                  0.5.0              pyhd8ed1ab_0    conda-forge\n",
      "tk                        8.6.10               h0419947_1    conda-forge\n",
      "tornado                   6.1              py39hcbf5805_1    conda-forge\n",
      "tqdm                      4.61.1                   pypi_0    pypi\n",
      "traitlets                 5.0.5                      py_0    conda-forge\n",
      "tzdata                    2021a                he74cb21_0    conda-forge\n",
      "urllib3                   1.26.5             pyhd8ed1ab_0    conda-forge\n",
      "visions                   0.5.0                    pypi_0    pypi\n",
      "wcwidth                   0.2.5              pyh9f0ad1d_2    conda-forge\n",
      "webencodings              0.5.1                      py_1    conda-forge\n",
      "wheel                     0.36.2             pyhd3deb0d_0    conda-forge\n",
      "widgetsnbextension        3.5.1            py39h6e9494a_4    conda-forge\n",
      "xz                        5.2.5                haf1e3a3_1    conda-forge\n",
      "zeromq                    4.3.4                h1c7c35f_0    conda-forge\n",
      "zipp                      3.4.1              pyhd8ed1ab_0    conda-forge\n",
      "zlib                      1.2.11            h7795811_1010    conda-forge\n",
      "zstd                      1.5.0                h582d3a0_0    conda-forge\n"
     ]
    }
   ],
   "source": [
    "!conda list"
   ]
  },
  {
   "cell_type": "code",
   "execution_count": 8,
   "metadata": {},
   "outputs": [
    {
     "name": "stdout",
     "output_type": "stream",
     "text": [
      "The history saving thread hit an unexpected error (NameError(\"name 'fix' is not defined\")).History will not be written to the database.\n"
     ]
    },
    {
     "name": "stderr",
     "output_type": "stream",
     "text": [
      "[autoreload of decorator failed: Traceback (most recent call last):\n",
      "  File \"/Users/effiepeng/opt/anaconda3/envs/ds/lib/python3.9/site-packages/IPython/extensions/autoreload.py\", line 245, in check\n",
      "    superreload(m, reload, self.old_objects)\n",
      "  File \"/Users/effiepeng/opt/anaconda3/envs/ds/lib/python3.9/site-packages/IPython/extensions/autoreload.py\", line 410, in superreload\n",
      "    update_generic(old_obj, new_obj)\n",
      "  File \"/Users/effiepeng/opt/anaconda3/envs/ds/lib/python3.9/site-packages/IPython/extensions/autoreload.py\", line 347, in update_generic\n",
      "    update(a, b)\n",
      "  File \"/Users/effiepeng/opt/anaconda3/envs/ds/lib/python3.9/site-packages/IPython/extensions/autoreload.py\", line 266, in update_function\n",
      "    setattr(old, name, getattr(new, name))\n",
      "ValueError: ContextManager() requires a code object with 3 free vars, not 0\n",
      "]\n"
     ]
    }
   ],
   "source": [
    "from pathlib import Path\n",
    "\n",
    "import requests\n",
    "import numpy as np\n",
    "import pandas as pd\n",
    "\n",
    "import pandas_profiling\n",
    "from pandas_profiling.utils.cache import cache_file"
   ]
  },
  {
   "cell_type": "markdown",
   "metadata": {},
   "source": [
    "### Load and prepare example dataset\n",
    "We add some fake variables for illustrating pandas-profiling capabilities"
   ]
  },
  {
   "cell_type": "code",
   "execution_count": 10,
   "metadata": {},
   "outputs": [],
   "source": [
    "file_name = cache_file(\n",
    "    \"meteorites.csv\",\n",
    "    \"https://data.nasa.gov/api/views/gh4g-9sfh/rows.csv?accessType=DOWNLOAD\",\n",
    ")\n",
    "    \n",
    "df = pd.read_csv(file_name)\n",
    "    \n",
    "# Note: Pandas does not support dates before 1880, so we ignore these for this analysis\n",
    "df['year'] = pd.to_datetime(df['year'], errors='coerce')\n",
    "\n",
    "# Example: Constant variable\n",
    "df['source'] = \"NASA\"\n",
    "\n",
    "# Example: Boolean variable\n",
    "df['boolean'] = np.random.choice([True, False], df.shape[0])\n",
    "\n",
    "# Example: Mixed with base types\n",
    "df['mixed'] = np.random.choice([1, \"A\"], df.shape[0])\n",
    "\n",
    "# Example: Highly correlated variables\n",
    "df['reclat_city'] = df['reclat'] + np.random.normal(scale=5,size=(len(df)))\n",
    "\n",
    "# Example: Duplicate observations\n",
    "duplicates_to_add = pd.DataFrame(df.iloc[0:10])\n",
    "duplicates_to_add[u'name'] = duplicates_to_add[u'name'] + \" copy\"\n",
    "\n",
    "df = df.append(duplicates_to_add, ignore_index=True)"
   ]
  },
  {
   "cell_type": "markdown",
   "metadata": {},
   "source": [
    "### Inline report without saving object"
   ]
  },
  {
   "cell_type": "code",
   "execution_count": 13,
   "metadata": {
    "scrolled": true
   },
   "outputs": [],
   "source": [
    "report = df.profile_report(sort='None', html={'style':{'full_width': True}}, progress_bar=False)"
   ]
  },
  {
   "cell_type": "code",
   "execution_count": 14,
   "metadata": {},
   "outputs": [
    {
     "ename": "NameError",
     "evalue": "name 'fix' is not defined",
     "output_type": "error",
     "traceback": [
      "\u001b[0;31m---------------------------------------------------------------------------\u001b[0m",
      "\u001b[0;31mNameError\u001b[0m                                 Traceback (most recent call last)",
      "\u001b[0;32m<ipython-input-14-07d3306fc65e>\u001b[0m in \u001b[0;36m<module>\u001b[0;34m\u001b[0m\n\u001b[0;32m----> 1\u001b[0;31m \u001b[0mreport\u001b[0m\u001b[0;34m\u001b[0m\u001b[0;34m\u001b[0m\u001b[0m\n\u001b[0m",
      "\u001b[0;32m~/opt/anaconda3/envs/ds/lib/python3.9/site-packages/IPython/core/displayhook.py\u001b[0m in \u001b[0;36m__call__\u001b[0;34m(self, result)\u001b[0m\n\u001b[1;32m    260\u001b[0m             \u001b[0mself\u001b[0m\u001b[0;34m.\u001b[0m\u001b[0mstart_displayhook\u001b[0m\u001b[0;34m(\u001b[0m\u001b[0;34m)\u001b[0m\u001b[0;34m\u001b[0m\u001b[0;34m\u001b[0m\u001b[0m\n\u001b[1;32m    261\u001b[0m             \u001b[0mself\u001b[0m\u001b[0;34m.\u001b[0m\u001b[0mwrite_output_prompt\u001b[0m\u001b[0;34m(\u001b[0m\u001b[0;34m)\u001b[0m\u001b[0;34m\u001b[0m\u001b[0;34m\u001b[0m\u001b[0m\n\u001b[0;32m--> 262\u001b[0;31m             \u001b[0mformat_dict\u001b[0m\u001b[0;34m,\u001b[0m \u001b[0mmd_dict\u001b[0m \u001b[0;34m=\u001b[0m \u001b[0mself\u001b[0m\u001b[0;34m.\u001b[0m\u001b[0mcompute_format_data\u001b[0m\u001b[0;34m(\u001b[0m\u001b[0mresult\u001b[0m\u001b[0;34m)\u001b[0m\u001b[0;34m\u001b[0m\u001b[0;34m\u001b[0m\u001b[0m\n\u001b[0m\u001b[1;32m    263\u001b[0m             \u001b[0mself\u001b[0m\u001b[0;34m.\u001b[0m\u001b[0mupdate_user_ns\u001b[0m\u001b[0;34m(\u001b[0m\u001b[0mresult\u001b[0m\u001b[0;34m)\u001b[0m\u001b[0;34m\u001b[0m\u001b[0;34m\u001b[0m\u001b[0m\n\u001b[1;32m    264\u001b[0m             \u001b[0mself\u001b[0m\u001b[0;34m.\u001b[0m\u001b[0mfill_exec_result\u001b[0m\u001b[0;34m(\u001b[0m\u001b[0mresult\u001b[0m\u001b[0;34m)\u001b[0m\u001b[0;34m\u001b[0m\u001b[0;34m\u001b[0m\u001b[0m\n",
      "\u001b[0;32m~/opt/anaconda3/envs/ds/lib/python3.9/site-packages/IPython/core/displayhook.py\u001b[0m in \u001b[0;36mcompute_format_data\u001b[0;34m(self, result)\u001b[0m\n\u001b[1;32m    149\u001b[0m \u001b[0;34m\u001b[0m\u001b[0m\n\u001b[1;32m    150\u001b[0m         \"\"\"\n\u001b[0;32m--> 151\u001b[0;31m         \u001b[0;32mreturn\u001b[0m \u001b[0mself\u001b[0m\u001b[0;34m.\u001b[0m\u001b[0mshell\u001b[0m\u001b[0;34m.\u001b[0m\u001b[0mdisplay_formatter\u001b[0m\u001b[0;34m.\u001b[0m\u001b[0mformat\u001b[0m\u001b[0;34m(\u001b[0m\u001b[0mresult\u001b[0m\u001b[0;34m)\u001b[0m\u001b[0;34m\u001b[0m\u001b[0;34m\u001b[0m\u001b[0m\n\u001b[0m\u001b[1;32m    152\u001b[0m \u001b[0;34m\u001b[0m\u001b[0m\n\u001b[1;32m    153\u001b[0m     \u001b[0;31m# This can be set to True by the write_output_prompt method in a subclass\u001b[0m\u001b[0;34m\u001b[0m\u001b[0;34m\u001b[0m\u001b[0;34m\u001b[0m\u001b[0m\n",
      "\u001b[0;32m~/opt/anaconda3/envs/ds/lib/python3.9/site-packages/IPython/core/formatters.py\u001b[0m in \u001b[0;36mformat\u001b[0;34m(self, obj, include, exclude)\u001b[0m\n\u001b[1;32m    144\u001b[0m         \u001b[0mmd_dict\u001b[0m \u001b[0;34m=\u001b[0m \u001b[0;34m{\u001b[0m\u001b[0;34m}\u001b[0m\u001b[0;34m\u001b[0m\u001b[0;34m\u001b[0m\u001b[0m\n\u001b[1;32m    145\u001b[0m \u001b[0;34m\u001b[0m\u001b[0m\n\u001b[0;32m--> 146\u001b[0;31m         \u001b[0;32mif\u001b[0m \u001b[0mself\u001b[0m\u001b[0;34m.\u001b[0m\u001b[0mipython_display_formatter\u001b[0m\u001b[0;34m(\u001b[0m\u001b[0mobj\u001b[0m\u001b[0;34m)\u001b[0m\u001b[0;34m:\u001b[0m\u001b[0;34m\u001b[0m\u001b[0;34m\u001b[0m\u001b[0m\n\u001b[0m\u001b[1;32m    147\u001b[0m             \u001b[0;31m# object handled itself, don't proceed\u001b[0m\u001b[0;34m\u001b[0m\u001b[0;34m\u001b[0m\u001b[0;34m\u001b[0m\u001b[0m\n\u001b[1;32m    148\u001b[0m             \u001b[0;32mreturn\u001b[0m \u001b[0;34m{\u001b[0m\u001b[0;34m}\u001b[0m\u001b[0;34m,\u001b[0m \u001b[0;34m{\u001b[0m\u001b[0;34m}\u001b[0m\u001b[0;34m\u001b[0m\u001b[0;34m\u001b[0m\u001b[0m\n",
      "\u001b[0;32m~/opt/anaconda3/envs/ds/lib/python3.9/site-packages/decorator.py\u001b[0m in \u001b[0;36mfun\u001b[0;34m(*args, **kw)\u001b[0m\n\u001b[1;32m    229\u001b[0m     \"\"\"\n\u001b[1;32m    230\u001b[0m     \u001b[0mevaldict\u001b[0m \u001b[0;34m=\u001b[0m \u001b[0mdict\u001b[0m\u001b[0;34m(\u001b[0m\u001b[0m_call_\u001b[0m\u001b[0;34m=\u001b[0m\u001b[0mcaller\u001b[0m\u001b[0;34m,\u001b[0m \u001b[0m_func_\u001b[0m\u001b[0;34m=\u001b[0m\u001b[0mfunc\u001b[0m\u001b[0;34m)\u001b[0m\u001b[0;34m\u001b[0m\u001b[0;34m\u001b[0m\u001b[0m\n\u001b[0;32m--> 231\u001b[0;31m     \u001b[0mes\u001b[0m \u001b[0;34m=\u001b[0m \u001b[0;34m''\u001b[0m\u001b[0;34m\u001b[0m\u001b[0;34m\u001b[0m\u001b[0m\n\u001b[0m\u001b[1;32m    232\u001b[0m     \u001b[0;32mfor\u001b[0m \u001b[0mi\u001b[0m\u001b[0;34m,\u001b[0m \u001b[0mextra\u001b[0m \u001b[0;32min\u001b[0m \u001b[0menumerate\u001b[0m\u001b[0;34m(\u001b[0m\u001b[0mextras\u001b[0m\u001b[0;34m)\u001b[0m\u001b[0;34m:\u001b[0m\u001b[0;34m\u001b[0m\u001b[0;34m\u001b[0m\u001b[0m\n\u001b[1;32m    233\u001b[0m         \u001b[0mex\u001b[0m \u001b[0;34m=\u001b[0m \u001b[0;34m'_e%d_'\u001b[0m \u001b[0;34m%\u001b[0m \u001b[0mi\u001b[0m\u001b[0;34m\u001b[0m\u001b[0;34m\u001b[0m\u001b[0m\n",
      "\u001b[0;31mNameError\u001b[0m: name 'fix' is not defined"
     ]
    }
   ],
   "source": [
    "report"
   ]
  },
  {
   "cell_type": "markdown",
   "metadata": {},
   "source": [
    "### Save report to file"
   ]
  },
  {
   "cell_type": "code",
   "execution_count": 15,
   "metadata": {
    "scrolled": true
   },
   "outputs": [
    {
     "ename": "FileNotFoundError",
     "evalue": "[Errno 2] No such file or directory: 'tmp/example.html'",
     "output_type": "error",
     "traceback": [
      "\u001b[0;31m---------------------------------------------------------------------------\u001b[0m",
      "\u001b[0;31mFileNotFoundError\u001b[0m                         Traceback (most recent call last)",
      "\u001b[0;32m<ipython-input-15-505b58602870>\u001b[0m in \u001b[0;36m<module>\u001b[0;34m\u001b[0m\n\u001b[1;32m      1\u001b[0m \u001b[0mprofile_report\u001b[0m \u001b[0;34m=\u001b[0m \u001b[0mdf\u001b[0m\u001b[0;34m.\u001b[0m\u001b[0mprofile_report\u001b[0m\u001b[0;34m(\u001b[0m\u001b[0mhtml\u001b[0m\u001b[0;34m=\u001b[0m\u001b[0;34m{\u001b[0m\u001b[0;34m'style'\u001b[0m\u001b[0;34m:\u001b[0m \u001b[0;34m{\u001b[0m\u001b[0;34m'full_width'\u001b[0m\u001b[0;34m:\u001b[0m \u001b[0;32mTrue\u001b[0m\u001b[0;34m}\u001b[0m\u001b[0;34m}\u001b[0m\u001b[0;34m)\u001b[0m\u001b[0;34m\u001b[0m\u001b[0;34m\u001b[0m\u001b[0m\n\u001b[0;32m----> 2\u001b[0;31m \u001b[0mprofile_report\u001b[0m\u001b[0;34m.\u001b[0m\u001b[0mto_file\u001b[0m\u001b[0;34m(\u001b[0m\u001b[0;34m\"tmp/example.html\"\u001b[0m\u001b[0;34m)\u001b[0m\u001b[0;34m\u001b[0m\u001b[0;34m\u001b[0m\u001b[0m\n\u001b[0m",
      "\u001b[0;32m~/opt/anaconda3/envs/ds/lib/python3.9/site-packages/pandas_profiling/profile_report.py\u001b[0m in \u001b[0;36mto_file\u001b[0;34m(self, output_file, silent)\u001b[0m\n\u001b[1;32m    268\u001b[0m             \u001b[0mtotal\u001b[0m\u001b[0;34m=\u001b[0m\u001b[0;36m1\u001b[0m\u001b[0;34m,\u001b[0m \u001b[0mdesc\u001b[0m\u001b[0;34m=\u001b[0m\u001b[0;34m\"Export report to file\"\u001b[0m\u001b[0;34m,\u001b[0m \u001b[0mdisable\u001b[0m\u001b[0;34m=\u001b[0m\u001b[0mdisable_progress_bar\u001b[0m\u001b[0;34m\u001b[0m\u001b[0;34m\u001b[0m\u001b[0m\n\u001b[1;32m    269\u001b[0m         ) as pbar:\n\u001b[0;32m--> 270\u001b[0;31m             \u001b[0moutput_file\u001b[0m\u001b[0;34m.\u001b[0m\u001b[0mwrite_text\u001b[0m\u001b[0;34m(\u001b[0m\u001b[0mdata\u001b[0m\u001b[0;34m,\u001b[0m \u001b[0mencoding\u001b[0m\u001b[0;34m=\u001b[0m\u001b[0;34m\"utf-8\"\u001b[0m\u001b[0;34m)\u001b[0m\u001b[0;34m\u001b[0m\u001b[0;34m\u001b[0m\u001b[0m\n\u001b[0m\u001b[1;32m    271\u001b[0m             \u001b[0mpbar\u001b[0m\u001b[0;34m.\u001b[0m\u001b[0mupdate\u001b[0m\u001b[0;34m(\u001b[0m\u001b[0;34m)\u001b[0m\u001b[0;34m\u001b[0m\u001b[0;34m\u001b[0m\u001b[0m\n\u001b[1;32m    272\u001b[0m \u001b[0;34m\u001b[0m\u001b[0m\n",
      "\u001b[0;32m~/opt/anaconda3/envs/ds/lib/python3.9/pathlib.py\u001b[0m in \u001b[0;36mwrite_text\u001b[0;34m(self, data, encoding, errors)\u001b[0m\n\u001b[1;32m   1273\u001b[0m             raise TypeError('data must be str, not %s' %\n\u001b[1;32m   1274\u001b[0m                             data.__class__.__name__)\n\u001b[0;32m-> 1275\u001b[0;31m         \u001b[0;32mwith\u001b[0m \u001b[0mself\u001b[0m\u001b[0;34m.\u001b[0m\u001b[0mopen\u001b[0m\u001b[0;34m(\u001b[0m\u001b[0mmode\u001b[0m\u001b[0;34m=\u001b[0m\u001b[0;34m'w'\u001b[0m\u001b[0;34m,\u001b[0m \u001b[0mencoding\u001b[0m\u001b[0;34m=\u001b[0m\u001b[0mencoding\u001b[0m\u001b[0;34m,\u001b[0m \u001b[0merrors\u001b[0m\u001b[0;34m=\u001b[0m\u001b[0merrors\u001b[0m\u001b[0;34m)\u001b[0m \u001b[0;32mas\u001b[0m \u001b[0mf\u001b[0m\u001b[0;34m:\u001b[0m\u001b[0;34m\u001b[0m\u001b[0;34m\u001b[0m\u001b[0m\n\u001b[0m\u001b[1;32m   1276\u001b[0m             \u001b[0;32mreturn\u001b[0m \u001b[0mf\u001b[0m\u001b[0;34m.\u001b[0m\u001b[0mwrite\u001b[0m\u001b[0;34m(\u001b[0m\u001b[0mdata\u001b[0m\u001b[0;34m)\u001b[0m\u001b[0;34m\u001b[0m\u001b[0;34m\u001b[0m\u001b[0m\n\u001b[1;32m   1277\u001b[0m \u001b[0;34m\u001b[0m\u001b[0m\n",
      "\u001b[0;32m~/opt/anaconda3/envs/ds/lib/python3.9/pathlib.py\u001b[0m in \u001b[0;36mopen\u001b[0;34m(self, mode, buffering, encoding, errors, newline)\u001b[0m\n\u001b[1;32m   1240\u001b[0m         \u001b[0mthe\u001b[0m \u001b[0mbuilt\u001b[0m\u001b[0;34m-\u001b[0m\u001b[0;32min\u001b[0m \u001b[0mopen\u001b[0m\u001b[0;34m(\u001b[0m\u001b[0;34m)\u001b[0m \u001b[0mfunction\u001b[0m \u001b[0mdoes\u001b[0m\u001b[0;34m.\u001b[0m\u001b[0;34m\u001b[0m\u001b[0;34m\u001b[0m\u001b[0m\n\u001b[1;32m   1241\u001b[0m         \"\"\"\n\u001b[0;32m-> 1242\u001b[0;31m         return io.open(self, mode, buffering, encoding, errors, newline,\n\u001b[0m\u001b[1;32m   1243\u001b[0m                        opener=self._opener)\n\u001b[1;32m   1244\u001b[0m \u001b[0;34m\u001b[0m\u001b[0m\n",
      "\u001b[0;32m~/opt/anaconda3/envs/ds/lib/python3.9/pathlib.py\u001b[0m in \u001b[0;36m_opener\u001b[0;34m(self, name, flags, mode)\u001b[0m\n\u001b[1;32m   1108\u001b[0m     \u001b[0;32mdef\u001b[0m \u001b[0m_opener\u001b[0m\u001b[0;34m(\u001b[0m\u001b[0mself\u001b[0m\u001b[0;34m,\u001b[0m \u001b[0mname\u001b[0m\u001b[0;34m,\u001b[0m \u001b[0mflags\u001b[0m\u001b[0;34m,\u001b[0m \u001b[0mmode\u001b[0m\u001b[0;34m=\u001b[0m\u001b[0;36m0o666\u001b[0m\u001b[0;34m)\u001b[0m\u001b[0;34m:\u001b[0m\u001b[0;34m\u001b[0m\u001b[0;34m\u001b[0m\u001b[0m\n\u001b[1;32m   1109\u001b[0m         \u001b[0;31m# A stub for the opener argument to built-in open()\u001b[0m\u001b[0;34m\u001b[0m\u001b[0;34m\u001b[0m\u001b[0;34m\u001b[0m\u001b[0m\n\u001b[0;32m-> 1110\u001b[0;31m         \u001b[0;32mreturn\u001b[0m \u001b[0mself\u001b[0m\u001b[0;34m.\u001b[0m\u001b[0m_accessor\u001b[0m\u001b[0;34m.\u001b[0m\u001b[0mopen\u001b[0m\u001b[0;34m(\u001b[0m\u001b[0mself\u001b[0m\u001b[0;34m,\u001b[0m \u001b[0mflags\u001b[0m\u001b[0;34m,\u001b[0m \u001b[0mmode\u001b[0m\u001b[0;34m)\u001b[0m\u001b[0;34m\u001b[0m\u001b[0;34m\u001b[0m\u001b[0m\n\u001b[0m\u001b[1;32m   1111\u001b[0m \u001b[0;34m\u001b[0m\u001b[0m\n\u001b[1;32m   1112\u001b[0m     \u001b[0;32mdef\u001b[0m \u001b[0m_raw_open\u001b[0m\u001b[0;34m(\u001b[0m\u001b[0mself\u001b[0m\u001b[0;34m,\u001b[0m \u001b[0mflags\u001b[0m\u001b[0;34m,\u001b[0m \u001b[0mmode\u001b[0m\u001b[0;34m=\u001b[0m\u001b[0;36m0o777\u001b[0m\u001b[0;34m)\u001b[0m\u001b[0;34m:\u001b[0m\u001b[0;34m\u001b[0m\u001b[0;34m\u001b[0m\u001b[0m\n",
      "\u001b[0;31mFileNotFoundError\u001b[0m: [Errno 2] No such file or directory: 'tmp/example.html'"
     ]
    }
   ],
   "source": [
    "profile_report = df.profile_report(html={'style': {'full_width': True}})\n",
    "profile_report.to_file(\"tmp/example.html\")"
   ]
  },
  {
   "cell_type": "markdown",
   "metadata": {},
   "source": [
    "### More analysis (Unicode) and Print existing ProfileReport object inline"
   ]
  },
  {
   "cell_type": "code",
   "execution_count": 16,
   "metadata": {},
   "outputs": [
    {
     "ename": "NameError",
     "evalue": "name 'fix' is not defined",
     "output_type": "error",
     "traceback": [
      "\u001b[0;31m---------------------------------------------------------------------------\u001b[0m",
      "\u001b[0;31mNameError\u001b[0m                                 Traceback (most recent call last)",
      "\u001b[0;32m<ipython-input-16-c11cf6133a47>\u001b[0m in \u001b[0;36m<module>\u001b[0;34m\u001b[0m\n\u001b[1;32m      1\u001b[0m \u001b[0mprofile_report\u001b[0m \u001b[0;34m=\u001b[0m \u001b[0mdf\u001b[0m\u001b[0;34m.\u001b[0m\u001b[0mprofile_report\u001b[0m\u001b[0;34m(\u001b[0m\u001b[0mexplorative\u001b[0m\u001b[0;34m=\u001b[0m\u001b[0;32mTrue\u001b[0m\u001b[0;34m,\u001b[0m \u001b[0mhtml\u001b[0m\u001b[0;34m=\u001b[0m\u001b[0;34m{\u001b[0m\u001b[0;34m'style'\u001b[0m\u001b[0;34m:\u001b[0m \u001b[0;34m{\u001b[0m\u001b[0;34m'full_width'\u001b[0m\u001b[0;34m:\u001b[0m \u001b[0;32mTrue\u001b[0m\u001b[0;34m}\u001b[0m\u001b[0;34m}\u001b[0m\u001b[0;34m)\u001b[0m\u001b[0;34m\u001b[0m\u001b[0;34m\u001b[0m\u001b[0m\n\u001b[0;32m----> 2\u001b[0;31m \u001b[0mprofile_report\u001b[0m\u001b[0;34m\u001b[0m\u001b[0;34m\u001b[0m\u001b[0m\n\u001b[0m",
      "\u001b[0;32m~/opt/anaconda3/envs/ds/lib/python3.9/site-packages/IPython/core/displayhook.py\u001b[0m in \u001b[0;36m__call__\u001b[0;34m(self, result)\u001b[0m\n\u001b[1;32m    260\u001b[0m             \u001b[0mself\u001b[0m\u001b[0;34m.\u001b[0m\u001b[0mstart_displayhook\u001b[0m\u001b[0;34m(\u001b[0m\u001b[0;34m)\u001b[0m\u001b[0;34m\u001b[0m\u001b[0;34m\u001b[0m\u001b[0m\n\u001b[1;32m    261\u001b[0m             \u001b[0mself\u001b[0m\u001b[0;34m.\u001b[0m\u001b[0mwrite_output_prompt\u001b[0m\u001b[0;34m(\u001b[0m\u001b[0;34m)\u001b[0m\u001b[0;34m\u001b[0m\u001b[0;34m\u001b[0m\u001b[0m\n\u001b[0;32m--> 262\u001b[0;31m             \u001b[0mformat_dict\u001b[0m\u001b[0;34m,\u001b[0m \u001b[0mmd_dict\u001b[0m \u001b[0;34m=\u001b[0m \u001b[0mself\u001b[0m\u001b[0;34m.\u001b[0m\u001b[0mcompute_format_data\u001b[0m\u001b[0;34m(\u001b[0m\u001b[0mresult\u001b[0m\u001b[0;34m)\u001b[0m\u001b[0;34m\u001b[0m\u001b[0;34m\u001b[0m\u001b[0m\n\u001b[0m\u001b[1;32m    263\u001b[0m             \u001b[0mself\u001b[0m\u001b[0;34m.\u001b[0m\u001b[0mupdate_user_ns\u001b[0m\u001b[0;34m(\u001b[0m\u001b[0mresult\u001b[0m\u001b[0;34m)\u001b[0m\u001b[0;34m\u001b[0m\u001b[0;34m\u001b[0m\u001b[0m\n\u001b[1;32m    264\u001b[0m             \u001b[0mself\u001b[0m\u001b[0;34m.\u001b[0m\u001b[0mfill_exec_result\u001b[0m\u001b[0;34m(\u001b[0m\u001b[0mresult\u001b[0m\u001b[0;34m)\u001b[0m\u001b[0;34m\u001b[0m\u001b[0;34m\u001b[0m\u001b[0m\n",
      "\u001b[0;32m~/opt/anaconda3/envs/ds/lib/python3.9/site-packages/IPython/core/displayhook.py\u001b[0m in \u001b[0;36mcompute_format_data\u001b[0;34m(self, result)\u001b[0m\n\u001b[1;32m    149\u001b[0m \u001b[0;34m\u001b[0m\u001b[0m\n\u001b[1;32m    150\u001b[0m         \"\"\"\n\u001b[0;32m--> 151\u001b[0;31m         \u001b[0;32mreturn\u001b[0m \u001b[0mself\u001b[0m\u001b[0;34m.\u001b[0m\u001b[0mshell\u001b[0m\u001b[0;34m.\u001b[0m\u001b[0mdisplay_formatter\u001b[0m\u001b[0;34m.\u001b[0m\u001b[0mformat\u001b[0m\u001b[0;34m(\u001b[0m\u001b[0mresult\u001b[0m\u001b[0;34m)\u001b[0m\u001b[0;34m\u001b[0m\u001b[0;34m\u001b[0m\u001b[0m\n\u001b[0m\u001b[1;32m    152\u001b[0m \u001b[0;34m\u001b[0m\u001b[0m\n\u001b[1;32m    153\u001b[0m     \u001b[0;31m# This can be set to True by the write_output_prompt method in a subclass\u001b[0m\u001b[0;34m\u001b[0m\u001b[0;34m\u001b[0m\u001b[0;34m\u001b[0m\u001b[0m\n",
      "\u001b[0;32m~/opt/anaconda3/envs/ds/lib/python3.9/site-packages/IPython/core/formatters.py\u001b[0m in \u001b[0;36mformat\u001b[0;34m(self, obj, include, exclude)\u001b[0m\n\u001b[1;32m    144\u001b[0m         \u001b[0mmd_dict\u001b[0m \u001b[0;34m=\u001b[0m \u001b[0;34m{\u001b[0m\u001b[0;34m}\u001b[0m\u001b[0;34m\u001b[0m\u001b[0;34m\u001b[0m\u001b[0m\n\u001b[1;32m    145\u001b[0m \u001b[0;34m\u001b[0m\u001b[0m\n\u001b[0;32m--> 146\u001b[0;31m         \u001b[0;32mif\u001b[0m \u001b[0mself\u001b[0m\u001b[0;34m.\u001b[0m\u001b[0mipython_display_formatter\u001b[0m\u001b[0;34m(\u001b[0m\u001b[0mobj\u001b[0m\u001b[0;34m)\u001b[0m\u001b[0;34m:\u001b[0m\u001b[0;34m\u001b[0m\u001b[0;34m\u001b[0m\u001b[0m\n\u001b[0m\u001b[1;32m    147\u001b[0m             \u001b[0;31m# object handled itself, don't proceed\u001b[0m\u001b[0;34m\u001b[0m\u001b[0;34m\u001b[0m\u001b[0;34m\u001b[0m\u001b[0m\n\u001b[1;32m    148\u001b[0m             \u001b[0;32mreturn\u001b[0m \u001b[0;34m{\u001b[0m\u001b[0;34m}\u001b[0m\u001b[0;34m,\u001b[0m \u001b[0;34m{\u001b[0m\u001b[0;34m}\u001b[0m\u001b[0;34m\u001b[0m\u001b[0;34m\u001b[0m\u001b[0m\n",
      "\u001b[0;32m~/opt/anaconda3/envs/ds/lib/python3.9/site-packages/decorator.py\u001b[0m in \u001b[0;36mfun\u001b[0;34m(*args, **kw)\u001b[0m\n\u001b[1;32m    229\u001b[0m     \"\"\"\n\u001b[1;32m    230\u001b[0m     \u001b[0mevaldict\u001b[0m \u001b[0;34m=\u001b[0m \u001b[0mdict\u001b[0m\u001b[0;34m(\u001b[0m\u001b[0m_call_\u001b[0m\u001b[0;34m=\u001b[0m\u001b[0mcaller\u001b[0m\u001b[0;34m,\u001b[0m \u001b[0m_func_\u001b[0m\u001b[0;34m=\u001b[0m\u001b[0mfunc\u001b[0m\u001b[0;34m)\u001b[0m\u001b[0;34m\u001b[0m\u001b[0;34m\u001b[0m\u001b[0m\n\u001b[0;32m--> 231\u001b[0;31m     \u001b[0mes\u001b[0m \u001b[0;34m=\u001b[0m \u001b[0;34m''\u001b[0m\u001b[0;34m\u001b[0m\u001b[0;34m\u001b[0m\u001b[0m\n\u001b[0m\u001b[1;32m    232\u001b[0m     \u001b[0;32mfor\u001b[0m \u001b[0mi\u001b[0m\u001b[0;34m,\u001b[0m \u001b[0mextra\u001b[0m \u001b[0;32min\u001b[0m \u001b[0menumerate\u001b[0m\u001b[0;34m(\u001b[0m\u001b[0mextras\u001b[0m\u001b[0;34m)\u001b[0m\u001b[0;34m:\u001b[0m\u001b[0;34m\u001b[0m\u001b[0;34m\u001b[0m\u001b[0m\n\u001b[1;32m    233\u001b[0m         \u001b[0mex\u001b[0m \u001b[0;34m=\u001b[0m \u001b[0;34m'_e%d_'\u001b[0m \u001b[0;34m%\u001b[0m \u001b[0mi\u001b[0m\u001b[0;34m\u001b[0m\u001b[0;34m\u001b[0m\u001b[0m\n",
      "\u001b[0;31mNameError\u001b[0m: name 'fix' is not defined"
     ]
    }
   ],
   "source": [
    "profile_report = df.profile_report(explorative=True, html={'style': {'full_width': True}})\n",
    "profile_report"
   ]
  },
  {
   "cell_type": "markdown",
   "metadata": {},
   "source": [
    "### Notebook Widgets"
   ]
  },
  {
   "cell_type": "code",
   "execution_count": 8,
   "metadata": {},
   "outputs": [
    {
     "name": "stderr",
     "output_type": "stream",
     "text": []
    },
    {
     "data": {
      "application/vnd.jupyter.widget-view+json": {
       "model_id": "2d751ba138a34f1f9c5c45fd4674e995",
       "version_major": 2,
       "version_minor": 0
      },
      "text/plain": [
       "VBox(children=(Tab(children=(Tab(children=(GridBox(children=(VBox(children=(GridspecLayout(children=(HTML(valu…"
      ]
     },
     "metadata": {},
     "output_type": "display_data"
    }
   ],
   "source": [
    "profile_report.to_widgets()"
   ]
  }
 ],
 "metadata": {
  "kernelspec": {
   "display_name": "ds",
   "language": "python",
   "name": "ds"
  },
  "language_info": {
   "codemirror_mode": {
    "name": "ipython",
    "version": 3
   },
   "file_extension": ".py",
   "mimetype": "text/x-python",
   "name": "python",
   "nbconvert_exporter": "python",
   "pygments_lexer": "ipython3",
   "version": "3.9.5"
  }
 },
 "nbformat": 4,
 "nbformat_minor": 4
}
